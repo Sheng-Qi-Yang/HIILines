{
 "cells": [
  {
   "cell_type": "code",
   "execution_count": 1,
   "metadata": {},
   "outputs": [
    {
     "name": "stdout",
     "output_type": "stream",
     "text": [
      "HIILines finishes solving this HII region.\n",
      "log10(OII 3727,29A luminosity/[L_sun]) is: 4.003380859942073\n",
      "log10(OIII 88 micron luminosity/[L_sun]) is: 3.319079727090426\n",
      "log10(OIII 52 micron luminosity/[L_sun]) is: 3.236352409256178\n",
      "log10(OIII 4960.3A luminosity/[L_sun]) is: 3.345271083873826\n",
      "log10(OIII 5008.2A luminosity/[L_sun]) is: 3.81204957937095\n",
      "log10(OIII 4364.4A luminosity/[L_sun]) is: 1.6550764689576245\n",
      "log10(H_beta luminosity/[L_sun]) is: 4.096649385303536\n"
     ]
    }
   ],
   "source": [
    "#Example script. Solve one HII region with nH=100 cm^-3, Z=0.1Z_sun, T4=1.\n",
    "#Assume the incident stellar radiation spectrum shape is given by Conroy et al. (2010), with Chabrier IMF.\n",
    "#Assume stellar population age of 6 Myr, metallicity of 0.1Z_sun.\n",
    "#Assume the incident spectrum hydrogen ionizing photon generation rate is 10^50 s^-1.\n",
    "from __future__ import division\n",
    "import h5py\n",
    "import numpy as np\n",
    "from HIILines import *\n",
    "import matplotlib.pyplot as plt\n",
    "\n",
    "#Load incident spectrum. Replace this with your own spectrum.\n",
    "#The spectrum lookup table can be downloaded from https://zenodo.org/record/6338462#.ZBENinbMKbh\n",
    "fSEDPath     = 'tables/SSP_Spectra_Conroy-et-al_v2.5_imfChabrier.hdf5'\n",
    "fSEDTable    = h5py.File(fSEDPath,'r')\n",
    "ageGrid      = fSEDTable['ages'][:]                #Gyr\n",
    "logZstarGrid = fSEDTable['metallicities'][:]       #log10(Z_sun)\n",
    "Spec         = fSEDTable['spectra'][:]             #L_sun/Hz\n",
    "wl           = fSEDTable['wavelengths'][:]         #A\n",
    "nu           = c*10**13/wl                         #Hz\n",
    "ageIdx       = 26                                  #Set the stellar age identical to the 26th grid. ~6Myr\n",
    "logZstarIdx  = 9                                   #Set the stellar metallicity identical to the 9th grid. ~0.1 Z_sun\n",
    "L            = Spec[logZstarIdx,ageIdx,::-1]*Lsun2Jps #J/s/Hz\n",
    "nu           = nu[::-1]\n",
    "\n",
    "#Input parameters\n",
    "logZgas      = -1                                  #log10(Z_sun)\n",
    "logQ         = 50                                  #log10(s^-1)\n",
    "lognH        = 2                                   #log10(cm^-3)\n",
    "T4OII        = 1                                   #OII region temperature (10000K)\n",
    "T4OIII       = 1                                   #OIII region temperature (10000K)\n",
    "\n",
    "#Solve for OIII and OII region volumes\n",
    "VOII2VHII_TOII, VOIII2VHII_TOII   = solV(nu,L,logQ,lognH,logZgas,T4OII)\n",
    "VOII2VHII_TOIII, VOIII2VHII_TOIII = solV(nu,L,logQ,lognH,logZgas,T4OIII)\n",
    "VOII2VHII      = VOII2VHII_TOII/(VOII2VHII_TOII+VOIII2VHII_TOIII)\n",
    "VOIII2VHII     = VOIII2VHII_TOIII/(VOII2VHII_TOII+VOIII2VHII_TOIII)\n",
    "#Compute HII region line luminosities\n",
    "INPUT        = [logQ, lognH, logZgas, T4OII, T4OIII, VOII2VHII, VOIII2VHII]\n",
    "HIILineL     = assignL(INPUT)\n",
    "\n",
    "print('HIILines finishes solving this HII region.')\n",
    "print('log10(OII 3727,29A luminosity/[L_sun]) is:'  ,np.log10(10**HIILineL[0]+10**HIILineL[1]))\n",
    "print('log10(OIII 88 micron luminosity/[L_sun]) is:',HIILineL[6])\n",
    "print('log10(OIII 52 micron luminosity/[L_sun]) is:',HIILineL[7])\n",
    "print('log10(OIII 4960.3A luminosity/[L_sun]) is:'  ,HIILineL[8])\n",
    "print('log10(OIII 5008.2A luminosity/[L_sun]) is:'  ,HIILineL[9])\n",
    "print('log10(OIII 4364.4A luminosity/[L_sun]) is:'  ,HIILineL[10])\n",
    "print('log10(H_beta luminosity/[L_sun]) is:'        ,HIILineL[12])"
   ]
  },
  {
   "cell_type": "code",
   "execution_count": 2,
   "metadata": {},
   "outputs": [
    {
     "name": "stdout",
     "output_type": "stream",
     "text": [
      "HIILines finishes solving this HII region.\n",
      "log10(OII 3727,29A luminosity/[L_sun]) is: 4.003380859942073\n",
      "log10(OIII 88 micron luminosity/[L_sun]) is: 3.319079727090426\n",
      "log10(OIII 52 micron luminosity/[L_sun]) is: 3.236352409256178\n",
      "log10(OIII 4960.3A luminosity/[L_sun]) is: 3.345271083873826\n",
      "log10(OIII 5008.2A luminosity/[L_sun]) is: 3.81204957937095\n",
      "log10(OIII 4364.4A luminosity/[L_sun]) is: 1.6550764689576245\n",
      "log10(H_beta luminosity/[L_sun]) is: 4.096649385303536\n"
     ]
    }
   ],
   "source": [
    "#Input parameters\n",
    "agestar      = ageGrid[ageIdx]*1000                #~6 Myr\n",
    "logZstar     = logZstarGrid[logZstarIdx]           #log10(Z_sun)~-1\n",
    "logZgas      = -1                                  #log10(Z_sun)\n",
    "logQ         = 50                                  #log10(s^-1)\n",
    "lognH        = 2                                   #log10(cm^-3)\n",
    "T4OII        = 1                                   #OII region temperature (10000K)\n",
    "T4OIII       = 1                                   #OIII region temperature (10000K)\n",
    "\n",
    "#Load VOII/VHII lookup table\n",
    "#The VOII/VHII lookup table can be downloaded from zenedo (https://zenodo.org/record/8213031).\n",
    "VOII2VHIITable = h5py.File('tables/VOII2VHII.hdf5')\n",
    "ageGrid        = VOII2VHIITable['ages'][:]\n",
    "logZstarGrid   = VOII2VHIITable['metallicities'][:]\n",
    "lognHGrid      = VOII2VHIITable['lognH'][:]\n",
    "logQGrid       = VOII2VHIITable['logQ'][:]\n",
    "logZismGrid    = VOII2VHIITable['logZ'][:]\n",
    "T4Grid         = VOII2VHIITable['T4'][:]\n",
    "VOII2VHII      = VOII2VHIITable['VOII2VHII'][:]\n",
    "VOIII2VHII     = VOII2VHIITable['VOIII2VHII'][:]\n",
    "VOII2VHIITable.close()\n",
    "\n",
    "VOII2VHIIf     = interpolate.RegularGridInterpolator((logQGrid,lognHGrid,logZismGrid,T4Grid,logZstarGrid,ageGrid*1000),VOII2VHII)\n",
    "VOIII2VHIIf    = interpolate.RegularGridInterpolator((logQGrid,lognHGrid,logZismGrid,T4Grid,logZstarGrid,ageGrid*1000),VOIII2VHII)\n",
    "\n",
    "INPUT            = [logQ, lognH, logZgas, T4OII, logZstar, agestar]\n",
    "VOII2VHII_TOII   = VOII2VHIIf(INPUT)[0]\n",
    "INPUT            = [logQ, lognH, logZgas, T4OIII, logZstar, agestar]\n",
    "VOIII2VHII_TOIII = VOIII2VHIIf(INPUT)[0]\n",
    "VOII2VHII        = VOII2VHII_TOII/(VOII2VHII_TOII+VOIII2VHII_TOIII)\n",
    "VOIII2VHII       = VOIII2VHII_TOIII/(VOII2VHII_TOII+VOIII2VHII_TOIII)\n",
    "#Compute HII region line luminosities\n",
    "INPUT        = [logQ, lognH, logZgas, T4OII, T4OIII, VOII2VHII, VOIII2VHII]\n",
    "HIILineL     = assignL(INPUT)\n",
    "\n",
    "print('HIILines finishes solving this HII region.')\n",
    "print('log10(OII 3727,29A luminosity/[L_sun]) is:'  ,np.log10(10**HIILineL[0]+10**HIILineL[1]))\n",
    "print('log10(OIII 88 micron luminosity/[L_sun]) is:',HIILineL[6])\n",
    "print('log10(OIII 52 micron luminosity/[L_sun]) is:',HIILineL[7])\n",
    "print('log10(OIII 4960.3A luminosity/[L_sun]) is:'  ,HIILineL[8])\n",
    "print('log10(OIII 5008.2A luminosity/[L_sun]) is:'  ,HIILineL[9])\n",
    "print('log10(OIII 4364.4A luminosity/[L_sun]) is:'  ,HIILineL[10])\n",
    "print('log10(H_beta luminosity/[L_sun]) is:'        ,HIILineL[12])"
   ]
  },
  {
   "cell_type": "code",
   "execution_count": null,
   "metadata": {},
   "outputs": [],
   "source": []
  }
 ],
 "metadata": {
  "kernelspec": {
   "display_name": "Python 3",
   "language": "python",
   "name": "python3"
  },
  "language_info": {
   "codemirror_mode": {
    "name": "ipython",
    "version": 3
   },
   "file_extension": ".py",
   "mimetype": "text/x-python",
   "name": "python",
   "nbconvert_exporter": "python",
   "pygments_lexer": "ipython3",
   "version": "3.7.3"
  }
 },
 "nbformat": 4,
 "nbformat_minor": 2
}
