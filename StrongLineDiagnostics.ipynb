{
 "cells": [
  {
   "cell_type": "code",
   "execution_count": 1,
   "metadata": {},
   "outputs": [
    {
     "name": "stdout",
     "output_type": "stream",
     "text": [
      "[-1.04926923 -0.40658706]\n",
      "[-1.04926923]\n"
     ]
    }
   ],
   "source": [
    "from strongLineDiagnostic import *\n",
    "\n",
    "#Assume some ISM environment at low redshift\n",
    "logZQ   = -1\n",
    "T4OIII  = -0.32*logZQ**2-1.5*logZQ+0.41    #Yang2023 temperature model Eq 16\n",
    "T4OII   = -0.22*T4OIII**2+1.2*T4OIII+0.066 #Yang2023 temperature model Eq 19\n",
    "FOII    = 0.3\n",
    "FOIII   = 1-FOII\n",
    "T4HII   = T4OIII*FOIII+T4OII*FOII          #Yang2023 Eq 20\n",
    "#We can compute R2 and O3O2 assuming low gas density limit\n",
    "R2      = 10**-3.31*(k01_OII(T4OII)*nu10_OII+k02_OII(T4OII)*nu20_OII)/nu_Hbeta/alphaB_Hbeta(T4HII)*10**logZQ*FOII #Yang2023 Eq 12\n",
    "O3O2    = 3/4*k03_OIII(T4OIII)*nu32_OIII/(k01_OII(T4OII)*nu10_OII+k02_OII(T4OII)*nu20_OII)*FOIII/FOII\n",
    "N2O2    = 3/4*10**-4.07/10**-3.31*k03_NII(T4OII)*nu32_NII/(k01_OII(T4OII)*nu10_OII+k02_OII(T4OII)*nu20_OII)\n",
    "\n",
    "#In the case where N2O2 is not measured, there maybe two metallicity solutions preferred by R2 and O3O2\n",
    "logZ_SLD = MeasurelogZ(R2,O3O2,'R2','local')\n",
    "print(logZ_SLD) #One of the solution is very close to our input logZQ = -1\n",
    "\n",
    "#If N2O2 is measured, it serves as an OII temperature diagnostic and helps in eliminating fake solutions\n",
    "logZ_SLD = MeasurelogZ_withN2O2(R2,O3O2,N2O2,'R2','local')\n",
    "print(logZ_SLD) #N2O2 correctly picks out the true solution logZQ = -1"
   ]
  },
  {
   "cell_type": "code",
   "execution_count": 2,
   "metadata": {},
   "outputs": [
    {
     "name": "stdout",
     "output_type": "stream",
     "text": [
      "[-1.07689485]\n",
      "[-1.07689485]\n"
     ]
    }
   ],
   "source": [
    "#Same as the last cell, except with the cosmic noon gas temperature model\n",
    "#Assume some ISM environment at low redshift\n",
    "logZQ   = -1\n",
    "T4OIII  = 0.88*logZQ**2+ 0.44*logZQ+ 1.2     #Yang2023 temperature model Eq 17\n",
    "T4OII   = -0.744+T4OIII*(2.338-0.610*T4OIII) #Izotov2006\n",
    "FOII    = 0.3\n",
    "FOIII   = 1-FOII\n",
    "T4HII   = T4OIII*FOIII+T4OII*FOII          #Yang2023 Eq 20\n",
    "#We can compute R2 and O3O2 assuming low gas density limit\n",
    "R2      = 10**-3.31*(k01_OII(T4OII)*nu10_OII+k02_OII(T4OII)*nu20_OII)/nu_Hbeta/alphaB_Hbeta(T4HII)*10**logZQ*FOII #Yang2023 Eq 12\n",
    "O3O2    = 3/4*k03_OIII(T4OIII)*nu32_OIII/(k01_OII(T4OII)*nu10_OII+k02_OII(T4OII)*nu20_OII)*FOIII/FOII\n",
    "N2O2    = 3/4*10**-4.07/10**-3.31*k03_NII(T4OII)*nu32_NII/(k01_OII(T4OII)*nu10_OII+k02_OII(T4OII)*nu20_OII)\n",
    "\n",
    "#Under this temperature model, logZ(R2) increases monotonically (Yang2023 Figure 4 top right panel), and there is only one metallicity solution\n",
    "logZ_SLD = MeasurelogZ(R2,O3O2,'R2','cosmicNoon')\n",
    "print(logZ_SLD) #This solution is very close to our input logZQ = -1\n",
    "\n",
    "logZ_SLD = MeasurelogZ_withN2O2(R2,O3O2,N2O2,'R2','cosmicNoon')\n",
    "print(logZ_SLD) #N2O2 is not very useful here since there is only one preferred metallicity solution"
   ]
  },
  {
   "cell_type": "code",
   "execution_count": 3,
   "metadata": {},
   "outputs": [
    {
     "name": "stdout",
     "output_type": "stream",
     "text": [
      "[-1.03556049]\n",
      "[-1.03556049]\n"
     ]
    }
   ],
   "source": [
    "#Same as previous cells, except with the cosmic noon gas temperature model\n",
    "#Assume some ISM environment at low redshift\n",
    "logZQ   = -1\n",
    "T4OIII  = 0.81*logZQ**2+ 0.14*logZQ+ 1.1     #Yang2023 temperature model Eq 18\n",
    "T4OII   = -0.744+T4OIII*(2.338-0.610*T4OIII) #Izotov2006\n",
    "FOII    = 0.3\n",
    "FOIII   = 1-FOII\n",
    "T4HII   = T4OIII*FOIII+T4OII*FOII          #Yang2023 Eq 20\n",
    "#We can compute R2 and O3O2 assuming low gas density limit\n",
    "R2      = 10**-3.31*(k01_OII(T4OII)*nu10_OII+k02_OII(T4OII)*nu20_OII)/nu_Hbeta/alphaB_Hbeta(T4HII)*10**logZQ*FOII #Yang2023 Eq 12\n",
    "O3O2    = 3/4*k03_OIII(T4OIII)*nu32_OIII/(k01_OII(T4OII)*nu10_OII+k02_OII(T4OII)*nu20_OII)*FOIII/FOII\n",
    "N2O2    = 3/4*10**-4.07/10**-3.31*k03_NII(T4OII)*nu32_NII/(k01_OII(T4OII)*nu10_OII+k02_OII(T4OII)*nu20_OII)\n",
    "\n",
    "#Under this temperature model, logZ(R2) increases monotonically (Yang2023 Figure 4 top right panel), and there is only one metallicity solution\n",
    "logZ_SLD = MeasurelogZ(R2,O3O2,'R2','EoR')\n",
    "print(logZ_SLD) #This solution is very close to our input logZQ = -1\n",
    "\n",
    "logZ_SLD = MeasurelogZ_withN2O2(R2,O3O2,N2O2,'R2','EoR')\n",
    "print(logZ_SLD) #N2O2 is not very useful here since there is only one preferred metallicity solution"
   ]
  },
  {
   "cell_type": "code",
   "execution_count": null,
   "metadata": {},
   "outputs": [],
   "source": []
  }
 ],
 "metadata": {
  "kernelspec": {
   "display_name": "Python 3",
   "language": "python",
   "name": "python3"
  },
  "language_info": {
   "codemirror_mode": {
    "name": "ipython",
    "version": 3
   },
   "file_extension": ".py",
   "mimetype": "text/x-python",
   "name": "python",
   "nbconvert_exporter": "python",
   "pygments_lexer": "ipython3",
   "version": "3.7.3"
  }
 },
 "nbformat": 4,
 "nbformat_minor": 2
}
